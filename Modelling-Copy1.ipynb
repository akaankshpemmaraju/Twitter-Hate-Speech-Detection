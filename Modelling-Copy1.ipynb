{
 "cells": [
  {
   "cell_type": "code",
   "execution_count": 1,
   "id": "2ea24763",
   "metadata": {},
   "outputs": [],
   "source": [
    "import pandas as pd\n",
    "import plotly\n",
    "from plotly import graph_objs\n",
    "import re\n",
    "from nltk.tokenize import word_tokenize\n",
    "from nltk.corpus import stopwords\n",
    "from nltk.stem import WordNetLemmatizer\n",
    "import numpy as np\n",
    "import matplotlib.pyplot as plt\n",
    "import seaborn as sns\n",
    "import math\n",
    "\n",
    "from sklearn import svm\n",
    "from sklearn.model_selection import train_test_split\n",
    "from sklearn.feature_extraction.text import TfidfVectorizer\n",
    "from sklearn.naive_bayes import MultinomialNB\n",
    "from sklearn.linear_model import LogisticRegression\n",
    "from sklearn.tree import DecisionTreeClassifier\n",
    "from sklearn.ensemble import RandomForestClassifier, AdaBoostClassifier, GradientBoostingClassifier, BaggingClassifier\n",
    "from sklearn.metrics import precision_score, recall_score, accuracy_score, f1_score, average_precision_score, confusion_matrix, roc_auc_score"
   ]
  },
  {
   "cell_type": "code",
   "execution_count": 2,
   "id": "1dc0df84",
   "metadata": {},
   "outputs": [
    {
     "name": "stderr",
     "output_type": "stream",
     "text": [
      "[nltk_data] Downloading package stopwords to\n",
      "[nltk_data]     C:\\Users\\dvvsa\\AppData\\Roaming\\nltk_data...\n",
      "[nltk_data]   Package stopwords is already up-to-date!\n",
      "[nltk_data] Downloading package punkt to\n",
      "[nltk_data]     C:\\Users\\dvvsa\\AppData\\Roaming\\nltk_data...\n",
      "[nltk_data]   Package punkt is already up-to-date!\n",
      "[nltk_data] Downloading package wordnet to\n",
      "[nltk_data]     C:\\Users\\dvvsa\\AppData\\Roaming\\nltk_data...\n",
      "[nltk_data]   Package wordnet is already up-to-date!\n",
      "[nltk_data] Downloading package omw-1.4 to\n",
      "[nltk_data]     C:\\Users\\dvvsa\\AppData\\Roaming\\nltk_data...\n",
      "[nltk_data]   Package omw-1.4 is already up-to-date!\n"
     ]
    },
    {
     "data": {
      "text/plain": [
       "True"
      ]
     },
     "execution_count": 2,
     "metadata": {},
     "output_type": "execute_result"
    }
   ],
   "source": [
    "import nltk\n",
    "nltk.download('stopwords')\n",
    "nltk.download('punkt')\n",
    "nltk.download('wordnet')\n",
    "nltk.download('omw-1.4')"
   ]
  },
  {
   "cell_type": "code",
   "execution_count": 3,
   "id": "efe7e1ee",
   "metadata": {},
   "outputs": [
    {
     "data": {
      "text/html": [
       "<div>\n",
       "<style scoped>\n",
       "    .dataframe tbody tr th:only-of-type {\n",
       "        vertical-align: middle;\n",
       "    }\n",
       "\n",
       "    .dataframe tbody tr th {\n",
       "        vertical-align: top;\n",
       "    }\n",
       "\n",
       "    .dataframe thead th {\n",
       "        text-align: right;\n",
       "    }\n",
       "</style>\n",
       "<table border=\"1\" class=\"dataframe\">\n",
       "  <thead>\n",
       "    <tr style=\"text-align: right;\">\n",
       "      <th></th>\n",
       "      <th>count</th>\n",
       "      <th>hate_speech</th>\n",
       "      <th>offensive_language</th>\n",
       "      <th>neither</th>\n",
       "      <th>class</th>\n",
       "      <th>tweet</th>\n",
       "    </tr>\n",
       "  </thead>\n",
       "  <tbody>\n",
       "    <tr>\n",
       "      <th>85</th>\n",
       "      <td>3</td>\n",
       "      <td>2</td>\n",
       "      <td>1</td>\n",
       "      <td>0</td>\n",
       "      <td>0</td>\n",
       "      <td>\"@Blackman38Tide: @WhaleLookyHere @HowdyDowdy1...</td>\n",
       "    </tr>\n",
       "    <tr>\n",
       "      <th>90</th>\n",
       "      <td>3</td>\n",
       "      <td>3</td>\n",
       "      <td>0</td>\n",
       "      <td>0</td>\n",
       "      <td>0</td>\n",
       "      <td>\"@CB_Baby24: @white_thunduh alsarabsss\" hes a ...</td>\n",
       "    </tr>\n",
       "    <tr>\n",
       "      <th>111</th>\n",
       "      <td>3</td>\n",
       "      <td>3</td>\n",
       "      <td>0</td>\n",
       "      <td>0</td>\n",
       "      <td>0</td>\n",
       "      <td>\"@DevilGrimz: @VigxRArts you're fucking gay, b...</td>\n",
       "    </tr>\n",
       "    <tr>\n",
       "      <th>186</th>\n",
       "      <td>3</td>\n",
       "      <td>3</td>\n",
       "      <td>0</td>\n",
       "      <td>0</td>\n",
       "      <td>0</td>\n",
       "      <td>\"@MarkRoundtreeJr: LMFAOOOO I HATE BLACK PEOPL...</td>\n",
       "    </tr>\n",
       "    <tr>\n",
       "      <th>204</th>\n",
       "      <td>3</td>\n",
       "      <td>2</td>\n",
       "      <td>1</td>\n",
       "      <td>0</td>\n",
       "      <td>0</td>\n",
       "      <td>\"@NoChillPaz: \"At least I'm not a nigger\" http...</td>\n",
       "    </tr>\n",
       "  </tbody>\n",
       "</table>\n",
       "</div>"
      ],
      "text/plain": [
       "     count  hate_speech  offensive_language  neither  class  \\\n",
       "85       3            2                   1        0      0   \n",
       "90       3            3                   0        0      0   \n",
       "111      3            3                   0        0      0   \n",
       "186      3            3                   0        0      0   \n",
       "204      3            2                   1        0      0   \n",
       "\n",
       "                                                 tweet  \n",
       "85   \"@Blackman38Tide: @WhaleLookyHere @HowdyDowdy1...  \n",
       "90   \"@CB_Baby24: @white_thunduh alsarabsss\" hes a ...  \n",
       "111  \"@DevilGrimz: @VigxRArts you're fucking gay, b...  \n",
       "186  \"@MarkRoundtreeJr: LMFAOOOO I HATE BLACK PEOPL...  \n",
       "204  \"@NoChillPaz: \"At least I'm not a nigger\" http...  "
      ]
     },
     "execution_count": 3,
     "metadata": {},
     "output_type": "execute_result"
    }
   ],
   "source": [
    "df = pd.read_csv(\"data/labeled_data1.csv\", index_col=0)\n",
    "df.head()"
   ]
  },
  {
   "cell_type": "code",
   "execution_count": 4,
   "id": "f9603be0",
   "metadata": {},
   "outputs": [
    {
     "data": {
      "text/plain": [
       "(4303, 6)"
      ]
     },
     "execution_count": 4,
     "metadata": {},
     "output_type": "execute_result"
    }
   ],
   "source": [
    "df.shape"
   ]
  },
  {
   "cell_type": "code",
   "execution_count": 5,
   "id": "60b9a31c",
   "metadata": {},
   "outputs": [
    {
     "name": "stdout",
     "output_type": "stream",
     "text": [
      "1429\n",
      "2441\n",
      "433\n"
     ]
    }
   ],
   "source": [
    "no_hate = len(df[df['class'] == 0])\n",
    "no_offensive = len(df[df['class'] == 1])\n",
    "no_neutral = len(df[df['class'] == 2])\n",
    "\n",
    "print(no_hate)\n",
    "print(no_offensive)\n",
    "print(no_neutral)"
   ]
  },
  {
   "cell_type": "code",
   "execution_count": 6,
   "id": "f78ec021",
   "metadata": {},
   "outputs": [
    {
     "data": {
      "text/html": [
       "<div>\n",
       "<style scoped>\n",
       "    .dataframe tbody tr th:only-of-type {\n",
       "        vertical-align: middle;\n",
       "    }\n",
       "\n",
       "    .dataframe tbody tr th {\n",
       "        vertical-align: top;\n",
       "    }\n",
       "\n",
       "    .dataframe thead th {\n",
       "        text-align: right;\n",
       "    }\n",
       "</style>\n",
       "<table border=\"1\" class=\"dataframe\">\n",
       "  <thead>\n",
       "    <tr style=\"text-align: right;\">\n",
       "      <th></th>\n",
       "      <th>count</th>\n",
       "      <th>hate_speech</th>\n",
       "      <th>offensive_language</th>\n",
       "      <th>neither</th>\n",
       "      <th>target</th>\n",
       "      <th>tweet</th>\n",
       "    </tr>\n",
       "  </thead>\n",
       "  <tbody>\n",
       "    <tr>\n",
       "      <th>85</th>\n",
       "      <td>3</td>\n",
       "      <td>2</td>\n",
       "      <td>1</td>\n",
       "      <td>0</td>\n",
       "      <td>0</td>\n",
       "      <td>\"@Blackman38Tide: @WhaleLookyHere @HowdyDowdy1...</td>\n",
       "    </tr>\n",
       "    <tr>\n",
       "      <th>90</th>\n",
       "      <td>3</td>\n",
       "      <td>3</td>\n",
       "      <td>0</td>\n",
       "      <td>0</td>\n",
       "      <td>0</td>\n",
       "      <td>\"@CB_Baby24: @white_thunduh alsarabsss\" hes a ...</td>\n",
       "    </tr>\n",
       "    <tr>\n",
       "      <th>111</th>\n",
       "      <td>3</td>\n",
       "      <td>3</td>\n",
       "      <td>0</td>\n",
       "      <td>0</td>\n",
       "      <td>0</td>\n",
       "      <td>\"@DevilGrimz: @VigxRArts you're fucking gay, b...</td>\n",
       "    </tr>\n",
       "    <tr>\n",
       "      <th>186</th>\n",
       "      <td>3</td>\n",
       "      <td>3</td>\n",
       "      <td>0</td>\n",
       "      <td>0</td>\n",
       "      <td>0</td>\n",
       "      <td>\"@MarkRoundtreeJr: LMFAOOOO I HATE BLACK PEOPL...</td>\n",
       "    </tr>\n",
       "    <tr>\n",
       "      <th>204</th>\n",
       "      <td>3</td>\n",
       "      <td>2</td>\n",
       "      <td>1</td>\n",
       "      <td>0</td>\n",
       "      <td>0</td>\n",
       "      <td>\"@NoChillPaz: \"At least I'm not a nigger\" http...</td>\n",
       "    </tr>\n",
       "  </tbody>\n",
       "</table>\n",
       "</div>"
      ],
      "text/plain": [
       "     count  hate_speech  offensive_language  neither  target  \\\n",
       "85       3            2                   1        0       0   \n",
       "90       3            3                   0        0       0   \n",
       "111      3            3                   0        0       0   \n",
       "186      3            3                   0        0       0   \n",
       "204      3            2                   1        0       0   \n",
       "\n",
       "                                                 tweet  \n",
       "85   \"@Blackman38Tide: @WhaleLookyHere @HowdyDowdy1...  \n",
       "90   \"@CB_Baby24: @white_thunduh alsarabsss\" hes a ...  \n",
       "111  \"@DevilGrimz: @VigxRArts you're fucking gay, b...  \n",
       "186  \"@MarkRoundtreeJr: LMFAOOOO I HATE BLACK PEOPL...  \n",
       "204  \"@NoChillPaz: \"At least I'm not a nigger\" http...  "
      ]
     },
     "execution_count": 6,
     "metadata": {},
     "output_type": "execute_result"
    }
   ],
   "source": [
    "df = df.rename(columns={\"class\": 'target'})\n",
    "df.head()"
   ]
  },
  {
   "cell_type": "code",
   "execution_count": 7,
   "id": "8f5e4e4a",
   "metadata": {},
   "outputs": [
    {
     "data": {
      "text/plain": [
       "0    2874\n",
       "1    1429\n",
       "Name: target, dtype: int64"
      ]
     },
     "execution_count": 7,
     "metadata": {},
     "output_type": "execute_result"
    }
   ],
   "source": [
    "df.target = df.target.replace([2], 1)\n",
    "df.target = df.target.replace([0, 1], [1, 0])\n",
    "df.target.value_counts()"
   ]
  },
  {
   "cell_type": "code",
   "execution_count": 8,
   "id": "2d2769a0",
   "metadata": {},
   "outputs": [
    {
     "data": {
      "text/plain": [
       "85     \"@Blackman38Tide: @WhaleLookyHere @HowdyDowdy1...\n",
       "90     \"@CB_Baby24: @white_thunduh alsarabsss\" hes a ...\n",
       "111    \"@DevilGrimz: @VigxRArts you're fucking gay, b...\n",
       "186    \"@MarkRoundtreeJr: LMFAOOOO I HATE BLACK PEOPL...\n",
       "204    \"@NoChillPaz: \"At least I'm not a nigger\" http...\n",
       "206    \"@NotoriousBM95: @_WhitePonyJr_ Ariza is a sna...\n",
       "221    \"@RTNBA: Drakes new shoes that will be release...\n",
       "263    \"@TheoMaxximus: #GerrysHalloweenParty http://t...\n",
       "317    \"@ashlingwilde: @ItsNotAdam is bored supposed ...\n",
       "320    \"@bigbootybishopp: @white_thunduh lassen cc , ...\n",
       "354    \"@jayswaggkillah: Jackies a retard #blondeprob...\n",
       "357    \"@jgabsss: Stacey Dash won &#128166; http://t....\n",
       "443    \"Don't worry about the nigga you see, worry ab...\n",
       "466    \"Hey go look at that video of the man that fou...\n",
       "528    \"Let's kill cracker babies!\". WTF did I just h...\n",
       "535    \"My grandma used to call me a porch monkey all...\n",
       "540    \"Nah its You @NoMeek_JustMilz: &#128514;&#1285...\n",
       "549    \"Our people\". Now is the time for the Aryan ra...\n",
       "574    \"These sour apple bitter bitches, I'm not fuck...\n",
       "591    \"We hate niggers, we hate faggots and we hate ...\n",
       "Name: tweet, dtype: object"
      ]
     },
     "execution_count": 8,
     "metadata": {},
     "output_type": "execute_result"
    }
   ],
   "source": [
    "df.tweet.head(20)"
   ]
  },
  {
   "cell_type": "code",
   "execution_count": 9,
   "id": "7c86ab94",
   "metadata": {},
   "outputs": [],
   "source": [
    "def remove_users(df, col):\n",
    "    df[col] = df[col].apply(lambda x: re.sub(r'(RT\\s@[A-Za-z]+[A-Za-z0-9-_]+)', '', str(x))) # remove re-tweet\n",
    "    df[col] = df[col].apply(lambda x: re.sub(r'(@[A-Za-z0-9-_]+)', '', str(x))) # remove tweeted at"
   ]
  },
  {
   "cell_type": "code",
   "execution_count": 10,
   "id": "89fbcf67",
   "metadata": {},
   "outputs": [],
   "source": [
    "remove_users(df, 'tweet')"
   ]
  },
  {
   "cell_type": "code",
   "execution_count": 11,
   "id": "cb690287",
   "metadata": {},
   "outputs": [
    {
     "data": {
      "text/plain": [
       "85                                    \":   queer\" gaywad\n",
       "90     \":  alsarabsss\" hes a beaner smh you can tell ...\n",
       "111    \":  you're fucking gay, blacklisted hoe\" Holdi...\n",
       "186    \": LMFAOOOO I HATE BLACK PEOPLE https://t.co/R...\n",
       "204    \": \"At least I'm not a nigger\" http://t.co/RGJ...\n",
       "206    \":  Ariza is a snake and a coward\" but at leas...\n",
       "221    \": Drakes new shoes that will be released by N...\n",
       "263    \": #GerrysHalloweenParty http://t.co/3ycrSrnjH...\n",
       "317    \":  is bored supposed to be cute, you faggot?\"...\n",
       "320    \":  lassen cc , the coach wants me\" i feel it ...\n",
       "354    \": Jackies a retard #blondeproblems\" At least ...\n",
       "357    \": Stacey Dash won &#128166; http://t.co/PDLG4...\n",
       "443    \"Don't worry about the nigga you see, worry ab...\n",
       "466    \"Hey go look at that video of the man that fou...\n",
       "528    \"Let's kill cracker babies!\". WTF did I just h...\n",
       "535    \"My grandma used to call me a porch monkey all...\n",
       "540    \"Nah its You : &#128514;&#128514;&#128514;&#12...\n",
       "549    \"Our people\". Now is the time for the Aryan ra...\n",
       "574    \"These sour apple bitter bitches, I'm not fuck...\n",
       "591    \"We hate niggers, we hate faggots and we hate ...\n",
       "Name: tweet, dtype: object"
      ]
     },
     "execution_count": 11,
     "metadata": {},
     "output_type": "execute_result"
    }
   ],
   "source": [
    "df.tweet.head(20)"
   ]
  },
  {
   "cell_type": "code",
   "execution_count": 12,
   "id": "23e8c0c4",
   "metadata": {},
   "outputs": [],
   "source": [
    "def remove_links(df, col):\n",
    "    df[col] = df[col].apply(lambda x: re.sub(r'http\\S+', '', str(x)))\n",
    "    df[col] = df[col].apply(lambda x: re.sub(r'bit.ly/\\S+', '', str(x)))"
   ]
  },
  {
   "cell_type": "code",
   "execution_count": 13,
   "id": "13dd7756",
   "metadata": {},
   "outputs": [
    {
     "data": {
      "text/plain": [
       "85                                    \":   queer\" gaywad\n",
       "90     \":  alsarabsss\" hes a beaner smh you can tell ...\n",
       "111    \":  you're fucking gay, blacklisted hoe\" Holdi...\n",
       "186    \": LMFAOOOO I HATE BLACK PEOPLE https://t.co/R...\n",
       "204    \": \"At least I'm not a nigger\" http://t.co/RGJ...\n",
       "206    \":  Ariza is a snake and a coward\" but at leas...\n",
       "221    \": Drakes new shoes that will be released by N...\n",
       "263    \": #GerrysHalloweenParty http://t.co/3ycrSrnjH...\n",
       "317    \":  is bored supposed to be cute, you faggot?\"...\n",
       "320    \":  lassen cc , the coach wants me\" i feel it ...\n",
       "354    \": Jackies a retard #blondeproblems\" At least ...\n",
       "357    \": Stacey Dash won &#128166; http://t.co/PDLG4...\n",
       "443    \"Don't worry about the nigga you see, worry ab...\n",
       "466    \"Hey go look at that video of the man that fou...\n",
       "528    \"Let's kill cracker babies!\". WTF did I just h...\n",
       "535    \"My grandma used to call me a porch monkey all...\n",
       "540    \"Nah its You : &#128514;&#128514;&#128514;&#12...\n",
       "549    \"Our people\". Now is the time for the Aryan ra...\n",
       "574    \"These sour apple bitter bitches, I'm not fuck...\n",
       "591    \"We hate niggers, we hate faggots and we hate ...\n",
       "Name: tweet, dtype: object"
      ]
     },
     "execution_count": 13,
     "metadata": {},
     "output_type": "execute_result"
    }
   ],
   "source": [
    "df.tweet.head(20)"
   ]
  },
  {
   "cell_type": "code",
   "execution_count": 14,
   "id": "947c17db",
   "metadata": {},
   "outputs": [],
   "source": [
    "remove_links(df, 'tweet')"
   ]
  },
  {
   "cell_type": "code",
   "execution_count": 15,
   "id": "2f7e603b",
   "metadata": {},
   "outputs": [
    {
     "data": {
      "text/plain": [
       "85                                    \":   queer\" gaywad\n",
       "90     \":  alsarabsss\" hes a beaner smh you can tell ...\n",
       "111    \":  you're fucking gay, blacklisted hoe\" Holdi...\n",
       "186    \": LMFAOOOO I HATE BLACK PEOPLE  This is why t...\n",
       "204                      \": \"At least I'm not a nigger\" \n",
       "206    \":  Ariza is a snake and a coward\" but at leas...\n",
       "221    \": Drakes new shoes that will be released by N...\n",
       "263    \": #GerrysHalloweenParty  Halloween was yester...\n",
       "317    \":  is bored supposed to be cute, you faggot?\"...\n",
       "320    \":  lassen cc , the coach wants me\" i feel it ...\n",
       "354    \": Jackies a retard #blondeproblems\" At least ...\n",
       "357    \": Stacey Dash won &#128166;  baddest bitch ev...\n",
       "443    \"Don't worry about the nigga you see, worry ab...\n",
       "466    \"Hey go look at that video of the man that fou...\n",
       "528    \"Let's kill cracker babies!\". WTF did I just h...\n",
       "535    \"My grandma used to call me a porch monkey all...\n",
       "540    \"Nah its You : &#128514;&#128514;&#128514;&#12...\n",
       "549    \"Our people\". Now is the time for the Aryan ra...\n",
       "574    \"These sour apple bitter bitches, I'm not fuck...\n",
       "591    \"We hate niggers, we hate faggots and we hate ...\n",
       "Name: tweet, dtype: object"
      ]
     },
     "execution_count": 15,
     "metadata": {},
     "output_type": "execute_result"
    }
   ],
   "source": [
    "df.tweet.head(20)"
   ]
  },
  {
   "cell_type": "code",
   "execution_count": 16,
   "id": "f1b938e3",
   "metadata": {},
   "outputs": [],
   "source": [
    "def remove_special_char(df, col):\n",
    "    df[col] = df[col].apply(lambda x: re.sub(r'&[\\S]+?;', '', str(x)))\n",
    "    df[col] = df[col].apply(lambda x: re.sub(r'[^\\w\\s]', r'', str(x)))\n",
    "    df[col] = df[col].apply(lambda x: re.sub(r'#', ' ', str(x)))"
   ]
  },
  {
   "cell_type": "code",
   "execution_count": 17,
   "id": "fec43b93",
   "metadata": {},
   "outputs": [],
   "source": [
    "remove_special_char(df, 'tweet')"
   ]
  },
  {
   "cell_type": "code",
   "execution_count": 18,
   "id": "820f7dbb",
   "metadata": {},
   "outputs": [
    {
     "data": {
      "text/plain": [
       "85                                          queer gaywad\n",
       "90       alsarabsss hes a beaner smh you can tell hes...\n",
       "111      youre fucking gay blacklisted hoe Holding ou...\n",
       "186     LMFAOOOO I HATE BLACK PEOPLE  This is why the...\n",
       "204                            At least Im not a nigger \n",
       "206      Ariza is a snake and a coward but at least h...\n",
       "221     Drakes new shoes that will be released by Nik...\n",
       "263     GerrysHalloweenParty  Halloween was yesterday...\n",
       "317      is bored supposed to be cute you faggot Some...\n",
       "320      lassen cc  the coach wants me i feel it youl...\n",
       "354     Jackies a retard blondeproblems At least I ca...\n",
       "357               Stacey Dash won   baddest bitch evaaaa\n",
       "443    Dont worry about the nigga you see worry about...\n",
       "466    Hey go look at that video of the man that foun...\n",
       "528     Lets kill cracker babies WTF did I just hear WOW\n",
       "535    My grandma used to call me a porch monkey all ...\n",
       "540    Nah its You   yo i thought some1 photoshopped ...\n",
       "549    Our people Now is the time for the Aryan race ...\n",
       "574    These sour apple bitter bitches Im not fuckin ...\n",
       "591    We hate niggers we hate faggots and we hate sp...\n",
       "Name: tweet, dtype: object"
      ]
     },
     "execution_count": 18,
     "metadata": {},
     "output_type": "execute_result"
    }
   ],
   "source": [
    "df.tweet.head(20)"
   ]
  },
  {
   "cell_type": "code",
   "execution_count": 19,
   "id": "3234bf8b",
   "metadata": {},
   "outputs": [],
   "source": [
    "def remove_whitespaces(df, col):\n",
    "    \"\"\"function to remove any double or more whitespaces to single and any leading and trailing whitespaces\"\"\"\n",
    "    df[col] = df[col].apply(lambda x: re.sub(r'\\s\\s+', ' ', str(x))) \n",
    "    df[col] = df[col].apply(lambda x: re.sub(r'(\\A\\s+|\\s+\\Z)', '', str(x)))"
   ]
  },
  {
   "cell_type": "code",
   "execution_count": 20,
   "id": "9c3de6c6",
   "metadata": {},
   "outputs": [],
   "source": [
    "remove_whitespaces(df, 'tweet')"
   ]
  },
  {
   "cell_type": "code",
   "execution_count": 21,
   "id": "f8dd71fb",
   "metadata": {},
   "outputs": [
    {
     "data": {
      "text/plain": [
       "85                                          queer gaywad\n",
       "90     alsarabsss hes a beaner smh you can tell hes a...\n",
       "111    youre fucking gay blacklisted hoe Holding out ...\n",
       "186    LMFAOOOO I HATE BLACK PEOPLE This is why there...\n",
       "204                             At least Im not a nigger\n",
       "206    Ariza is a snake and a coward but at least he ...\n",
       "221    Drakes new shoes that will be released by Nike...\n",
       "263    GerrysHalloweenParty Halloween was yesterday s...\n",
       "317    is bored supposed to be cute you faggot Sometimes\n",
       "320    lassen cc the coach wants me i feel it youll g...\n",
       "354    Jackies a retard blondeproblems At least I can...\n",
       "357                 Stacey Dash won baddest bitch evaaaa\n",
       "443    Dont worry about the nigga you see worry about...\n",
       "466    Hey go look at that video of the man that foun...\n",
       "528     Lets kill cracker babies WTF did I just hear WOW\n",
       "535    My grandma used to call me a porch monkey all ...\n",
       "540    Nah its You yo i thought some1 photoshopped my...\n",
       "549    Our people Now is the time for the Aryan race ...\n",
       "574    These sour apple bitter bitches Im not fuckin ...\n",
       "591    We hate niggers we hate faggots and we hate sp...\n",
       "Name: tweet, dtype: object"
      ]
     },
     "execution_count": 21,
     "metadata": {},
     "output_type": "execute_result"
    }
   ],
   "source": [
    "df.tweet.head(20)"
   ]
  },
  {
   "cell_type": "code",
   "execution_count": 22,
   "id": "8cd4ff6d",
   "metadata": {},
   "outputs": [],
   "source": [
    "def remove_numerics(df, col):\n",
    "    \"\"\"function to remove numbers or words with digits\"\"\"\n",
    "    df[col] = df[col].apply(lambda x: re.sub(r'\\w*\\d\\w*', r'', str(x)))"
   ]
  },
  {
   "cell_type": "code",
   "execution_count": 23,
   "id": "f95ca379",
   "metadata": {},
   "outputs": [],
   "source": [
    "remove_numerics(df, 'tweet')"
   ]
  },
  {
   "cell_type": "code",
   "execution_count": 24,
   "id": "99787fdd",
   "metadata": {},
   "outputs": [
    {
     "data": {
      "text/plain": [
       "85                                          queer gaywad\n",
       "90     alsarabsss hes a beaner smh you can tell hes a...\n",
       "111    youre fucking gay blacklisted hoe Holding out ...\n",
       "186    LMFAOOOO I HATE BLACK PEOPLE This is why there...\n",
       "204                             At least Im not a nigger\n",
       "206    Ariza is a snake and a coward but at least he ...\n",
       "221    Drakes new shoes that will be released by Nike...\n",
       "263    GerrysHalloweenParty Halloween was yesterday s...\n",
       "317    is bored supposed to be cute you faggot Sometimes\n",
       "320    lassen cc the coach wants me i feel it youll g...\n",
       "354    Jackies a retard blondeproblems At least I can...\n",
       "357                 Stacey Dash won baddest bitch evaaaa\n",
       "443    Dont worry about the nigga you see worry about...\n",
       "466    Hey go look at that video of the man that foun...\n",
       "528     Lets kill cracker babies WTF did I just hear WOW\n",
       "535    My grandma used to call me a porch monkey all ...\n",
       "540    Nah its You yo i thought  photoshopped my face...\n",
       "549    Our people Now is the time for the Aryan race ...\n",
       "574    These sour apple bitter bitches Im not fuckin ...\n",
       "591    We hate niggers we hate faggots and we hate sp...\n",
       "Name: tweet, dtype: object"
      ]
     },
     "execution_count": 24,
     "metadata": {},
     "output_type": "execute_result"
    }
   ],
   "source": [
    "df.tweet.head(20)"
   ]
  },
  {
   "cell_type": "code",
   "execution_count": 25,
   "id": "f79b92dd",
   "metadata": {},
   "outputs": [],
   "source": [
    "def lemmatize(token):\n",
    "    \"\"\"Returns lemmatization of a token\"\"\"\n",
    "    return WordNetLemmatizer().lemmatize(token, pos='v')\n",
    "\n",
    "def tokenize(tweet):\n",
    "    \"\"\"Returns tokenized representation of words in lemma form excluding stopwords\"\"\"\n",
    "    result = []\n",
    "    stop_words = set(stopwords.words('english'))\n",
    "    word_tokens = word_tokenize(tweet)\n",
    "    for token in word_tokens:    \n",
    "        if token.lower not in stop_words and len(token) > 2:  # drops words with less than 3 characters\n",
    "            result.append(lemmatize(token))\n",
    "    return result"
   ]
  },
  {
   "cell_type": "code",
   "execution_count": 26,
   "id": "3689a09a",
   "metadata": {},
   "outputs": [],
   "source": [
    "def tokenize_and_lemmatize(df, col):\n",
    "    df[col] = df[col].apply(lambda x: tokenize(x))\n",
    "    df.tweet = df.tweet.apply(lambda x: str(x)[1:-1])"
   ]
  },
  {
   "cell_type": "code",
   "execution_count": 27,
   "id": "4c718bbe",
   "metadata": {},
   "outputs": [],
   "source": [
    "tokenize_and_lemmatize(df, 'tweet')"
   ]
  },
  {
   "cell_type": "code",
   "execution_count": 28,
   "id": "63c4d865",
   "metadata": {},
   "outputs": [
    {
     "data": {
      "text/html": [
       "<div>\n",
       "<style scoped>\n",
       "    .dataframe tbody tr th:only-of-type {\n",
       "        vertical-align: middle;\n",
       "    }\n",
       "\n",
       "    .dataframe tbody tr th {\n",
       "        vertical-align: top;\n",
       "    }\n",
       "\n",
       "    .dataframe thead th {\n",
       "        text-align: right;\n",
       "    }\n",
       "</style>\n",
       "<table border=\"1\" class=\"dataframe\">\n",
       "  <thead>\n",
       "    <tr style=\"text-align: right;\">\n",
       "      <th></th>\n",
       "      <th>count</th>\n",
       "      <th>hate_speech</th>\n",
       "      <th>offensive_language</th>\n",
       "      <th>neither</th>\n",
       "      <th>target</th>\n",
       "      <th>tweet</th>\n",
       "    </tr>\n",
       "  </thead>\n",
       "  <tbody>\n",
       "    <tr>\n",
       "      <th>85</th>\n",
       "      <td>3</td>\n",
       "      <td>2</td>\n",
       "      <td>1</td>\n",
       "      <td>0</td>\n",
       "      <td>1</td>\n",
       "      <td>'queer', 'gaywad'</td>\n",
       "    </tr>\n",
       "    <tr>\n",
       "      <th>90</th>\n",
       "      <td>3</td>\n",
       "      <td>3</td>\n",
       "      <td>0</td>\n",
       "      <td>0</td>\n",
       "      <td>1</td>\n",
       "      <td>'alsarabsss', 'hes', 'beaner', 'smh', 'you', '...</td>\n",
       "    </tr>\n",
       "    <tr>\n",
       "      <th>111</th>\n",
       "      <td>3</td>\n",
       "      <td>3</td>\n",
       "      <td>0</td>\n",
       "      <td>0</td>\n",
       "      <td>1</td>\n",
       "      <td>'youre', 'fuck', 'gay', 'blacklist', 'hoe', 'H...</td>\n",
       "    </tr>\n",
       "    <tr>\n",
       "      <th>186</th>\n",
       "      <td>3</td>\n",
       "      <td>3</td>\n",
       "      <td>0</td>\n",
       "      <td>0</td>\n",
       "      <td>1</td>\n",
       "      <td>'LMFAOOOO', 'HATE', 'BLACK', 'PEOPLE', 'This',...</td>\n",
       "    </tr>\n",
       "    <tr>\n",
       "      <th>204</th>\n",
       "      <td>3</td>\n",
       "      <td>2</td>\n",
       "      <td>1</td>\n",
       "      <td>0</td>\n",
       "      <td>1</td>\n",
       "      <td>'least', 'not', 'nigger'</td>\n",
       "    </tr>\n",
       "  </tbody>\n",
       "</table>\n",
       "</div>"
      ],
      "text/plain": [
       "     count  hate_speech  offensive_language  neither  target  \\\n",
       "85       3            2                   1        0       1   \n",
       "90       3            3                   0        0       1   \n",
       "111      3            3                   0        0       1   \n",
       "186      3            3                   0        0       1   \n",
       "204      3            2                   1        0       1   \n",
       "\n",
       "                                                 tweet  \n",
       "85                                   'queer', 'gaywad'  \n",
       "90   'alsarabsss', 'hes', 'beaner', 'smh', 'you', '...  \n",
       "111  'youre', 'fuck', 'gay', 'blacklist', 'hoe', 'H...  \n",
       "186  'LMFAOOOO', 'HATE', 'BLACK', 'PEOPLE', 'This',...  \n",
       "204                           'least', 'not', 'nigger'  "
      ]
     },
     "execution_count": 28,
     "metadata": {},
     "output_type": "execute_result"
    }
   ],
   "source": [
    "df.head()"
   ]
  },
  {
   "cell_type": "code",
   "execution_count": 29,
   "id": "14cefbea",
   "metadata": {},
   "outputs": [
    {
     "data": {
      "text/html": [
       "<div>\n",
       "<style scoped>\n",
       "    .dataframe tbody tr th:only-of-type {\n",
       "        vertical-align: middle;\n",
       "    }\n",
       "\n",
       "    .dataframe tbody tr th {\n",
       "        vertical-align: top;\n",
       "    }\n",
       "\n",
       "    .dataframe thead th {\n",
       "        text-align: right;\n",
       "    }\n",
       "</style>\n",
       "<table border=\"1\" class=\"dataframe\">\n",
       "  <thead>\n",
       "    <tr style=\"text-align: right;\">\n",
       "      <th></th>\n",
       "      <th>count</th>\n",
       "      <th>hate_speech</th>\n",
       "      <th>offensive_language</th>\n",
       "      <th>neither</th>\n",
       "      <th>target</th>\n",
       "      <th>tweet</th>\n",
       "    </tr>\n",
       "  </thead>\n",
       "  <tbody>\n",
       "    <tr>\n",
       "      <th>1</th>\n",
       "      <td>3</td>\n",
       "      <td>0</td>\n",
       "      <td>3</td>\n",
       "      <td>0</td>\n",
       "      <td>0</td>\n",
       "      <td>'boy', 'dats', 'coldtyga', 'dwn', 'bad', 'for'...</td>\n",
       "    </tr>\n",
       "    <tr>\n",
       "      <th>2</th>\n",
       "      <td>3</td>\n",
       "      <td>0</td>\n",
       "      <td>3</td>\n",
       "      <td>0</td>\n",
       "      <td>0</td>\n",
       "      <td>'Dawg', 'You', 'ever', 'fuck', 'bitch', 'and',...</td>\n",
       "    </tr>\n",
       "    <tr>\n",
       "      <th>3</th>\n",
       "      <td>3</td>\n",
       "      <td>0</td>\n",
       "      <td>2</td>\n",
       "      <td>1</td>\n",
       "      <td>0</td>\n",
       "      <td>'she', 'look', 'like', 'tranny'</td>\n",
       "    </tr>\n",
       "    <tr>\n",
       "      <th>4</th>\n",
       "      <td>6</td>\n",
       "      <td>0</td>\n",
       "      <td>6</td>\n",
       "      <td>0</td>\n",
       "      <td>0</td>\n",
       "      <td>'The', 'shit', 'you', 'hear', 'about', 'might'...</td>\n",
       "    </tr>\n",
       "    <tr>\n",
       "      <th>5</th>\n",
       "      <td>3</td>\n",
       "      <td>1</td>\n",
       "      <td>2</td>\n",
       "      <td>0</td>\n",
       "      <td>0</td>\n",
       "      <td>'The', 'shit', 'just', 'blow', 'meclaim', 'you...</td>\n",
       "    </tr>\n",
       "  </tbody>\n",
       "</table>\n",
       "</div>"
      ],
      "text/plain": [
       "   count  hate_speech  offensive_language  neither  target  \\\n",
       "1      3            0                   3        0       0   \n",
       "2      3            0                   3        0       0   \n",
       "3      3            0                   2        1       0   \n",
       "4      6            0                   6        0       0   \n",
       "5      3            1                   2        0       0   \n",
       "\n",
       "                                               tweet  \n",
       "1  'boy', 'dats', 'coldtyga', 'dwn', 'bad', 'for'...  \n",
       "2  'Dawg', 'You', 'ever', 'fuck', 'bitch', 'and',...  \n",
       "3                    'she', 'look', 'like', 'tranny'  \n",
       "4  'The', 'shit', 'you', 'hear', 'about', 'might'...  \n",
       "5  'The', 'shit', 'just', 'blow', 'meclaim', 'you...  "
      ]
     },
     "execution_count": 29,
     "metadata": {},
     "output_type": "execute_result"
    }
   ],
   "source": [
    "#Train-Validation-Test Split\n",
    "hate = df[df.target == 1]\n",
    "non_hate = df[df.target == 0]\n",
    "non_hate.head()"
   ]
  },
  {
   "cell_type": "code",
   "execution_count": 30,
   "id": "e55646f4",
   "metadata": {},
   "outputs": [],
   "source": [
    "X_h = hate.tweet\n",
    "y_h = hate.target\n",
    "X_nh = non_hate.tweet\n",
    "y_nh = non_hate.target\n",
    "\n",
    "# perform 75-25 training-validation split and 15-10 validation-testing split on dataset\n",
    "X_h_tr, X_h_val, y_h_tr, y_h_val = train_test_split(X_h, y_h, test_size=0.25, random_state=42)\n",
    "X_nh_tr, X_nh_val, y_nh_tr, y_nh_val = train_test_split(X_nh, y_nh, test_size=0.25, random_state=42)"
   ]
  },
  {
   "cell_type": "code",
   "execution_count": 31,
   "id": "9579b9c7",
   "metadata": {},
   "outputs": [],
   "source": [
    "X_tr = pd.concat((X_h_tr, X_nh_tr), ignore_index=True)\n",
    "y_tr = pd.concat((y_h_tr, y_nh_tr), ignore_index=True)\n",
    "train = pd.concat([X_tr, y_tr], axis=1)"
   ]
  },
  {
   "cell_type": "code",
   "execution_count": 32,
   "id": "747d5dc0",
   "metadata": {},
   "outputs": [
    {
     "data": {
      "text/html": [
       "<div>\n",
       "<style scoped>\n",
       "    .dataframe tbody tr th:only-of-type {\n",
       "        vertical-align: middle;\n",
       "    }\n",
       "\n",
       "    .dataframe tbody tr th {\n",
       "        vertical-align: top;\n",
       "    }\n",
       "\n",
       "    .dataframe thead th {\n",
       "        text-align: right;\n",
       "    }\n",
       "</style>\n",
       "<table border=\"1\" class=\"dataframe\">\n",
       "  <thead>\n",
       "    <tr style=\"text-align: right;\">\n",
       "      <th></th>\n",
       "      <th>tweet</th>\n",
       "      <th>target</th>\n",
       "    </tr>\n",
       "  </thead>\n",
       "  <tbody>\n",
       "    <tr>\n",
       "      <th>0</th>\n",
       "      <td>'Dont', 'watch', 'you', 'beta', 'watch', 'your...</td>\n",
       "      <td>1</td>\n",
       "    </tr>\n",
       "    <tr>\n",
       "      <th>1</th>\n",
       "      <td>'dont', 'give', 'fly', 'fuck', 'what', 'teabag...</td>\n",
       "      <td>1</td>\n",
       "    </tr>\n",
       "    <tr>\n",
       "      <th>2</th>\n",
       "      <td>'Pennsylvania', 'white', 'trash', 'and', 'be',...</td>\n",
       "      <td>1</td>\n",
       "    </tr>\n",
       "    <tr>\n",
       "      <th>3</th>\n",
       "      <td>'fuck', 'block', 'your', 'white', 'ass', 'beca...</td>\n",
       "      <td>1</td>\n",
       "    </tr>\n",
       "    <tr>\n",
       "      <th>4</th>\n",
       "      <td>'you', 'look', 'like', 'welfare', 'bitch', 'co...</td>\n",
       "      <td>1</td>\n",
       "    </tr>\n",
       "  </tbody>\n",
       "</table>\n",
       "</div>"
      ],
      "text/plain": [
       "                                               tweet  target\n",
       "0  'Dont', 'watch', 'you', 'beta', 'watch', 'your...       1\n",
       "1  'dont', 'give', 'fly', 'fuck', 'what', 'teabag...       1\n",
       "2  'Pennsylvania', 'white', 'trash', 'and', 'be',...       1\n",
       "3  'fuck', 'block', 'your', 'white', 'ass', 'beca...       1\n",
       "4  'you', 'look', 'like', 'welfare', 'bitch', 'co...       1"
      ]
     },
     "execution_count": 32,
     "metadata": {},
     "output_type": "execute_result"
    }
   ],
   "source": [
    "train.head()"
   ]
  },
  {
   "cell_type": "code",
   "execution_count": 33,
   "id": "17153750",
   "metadata": {},
   "outputs": [
    {
     "data": {
      "text/plain": [
       "0       'Dont', 'watch', 'you', 'beta', 'watch', 'your...\n",
       "1       'dont', 'give', 'fly', 'fuck', 'what', 'teabag...\n",
       "2       'Pennsylvania', 'white', 'trash', 'and', 'be',...\n",
       "3       'fuck', 'block', 'your', 'white', 'ass', 'beca...\n",
       "4       'you', 'look', 'like', 'welfare', 'bitch', 'co...\n",
       "                              ...                        \n",
       "3221    'make', 'wise', 'argument', 'about', 'the', 'a...\n",
       "3222    'Girl', 'you', 'eat', 'pussy', 'than', 'girl',...\n",
       "3223    'This', 'bitch', 'childish', 'one', 'sisters',...\n",
       "3224    'Gwyneth', 'Paltrow', 'you', 'ugly', 'ass', 'b...\n",
       "3225    'After', 'you', 'get', 'do', 'run', 'train', '...\n",
       "Name: tweet, Length: 3226, dtype: object"
      ]
     },
     "execution_count": 33,
     "metadata": {},
     "output_type": "execute_result"
    }
   ],
   "source": [
    "train.tweet"
   ]
  },
  {
   "cell_type": "code",
   "execution_count": 34,
   "id": "55252c09",
   "metadata": {},
   "outputs": [],
   "source": [
    "X_val = pd.concat((X_h_val, X_nh_val), ignore_index=True)\n",
    "y_val = pd.concat((y_h_val, y_nh_val), ignore_index=True)\n",
    "val = pd.concat([X_val, y_val], axis=1)"
   ]
  },
  {
   "cell_type": "code",
   "execution_count": 35,
   "id": "a6e01f38",
   "metadata": {},
   "outputs": [],
   "source": [
    "X_tr = train.tweet\n",
    "X_val = val.tweet\n",
    "y_tr = train.target\n",
    "y_val = val.target\n",
    "\n",
    "# vectorize tweets for modeling\n",
    "vec = TfidfVectorizer()\n",
    "tfidf_tr = vec.fit_transform(X_tr)\n",
    "tfidf_val = vec.transform(X_val)"
   ]
  },
  {
   "cell_type": "code",
   "execution_count": 36,
   "id": "34424017",
   "metadata": {},
   "outputs": [],
   "source": [
    "def auc(X, y, model):\n",
    "    \"\"\"\n",
    "        Function to calculate ROC-AUC Score based on predict_proba(X)\n",
    "        where X is feature values, y is target values, and model is instantiated model variable\n",
    "    \"\"\"\n",
    "    probs = model.predict_proba(X)[:,1] \n",
    "    return roc_auc_score(y, probs)"
   ]
  },
  {
   "cell_type": "code",
   "execution_count": 37,
   "id": "41a41e71",
   "metadata": {},
   "outputs": [],
   "source": [
    "def aps(X, y, model):\n",
    "    \"\"\"\n",
    "        Function to calculate PR-AUC Score based on predict_proba(X)\n",
    "        where X is feature values, y is target values, and model is instantiated model variable\n",
    "    \"\"\"\n",
    "    probs = model.predict_proba(X)[:,1]\n",
    "    return average_precision_score(y, probs)"
   ]
  },
  {
   "cell_type": "code",
   "execution_count": 38,
   "id": "6785b39f",
   "metadata": {},
   "outputs": [],
   "source": [
    "\n",
    "def get_metrics_confusion(X, y, y_pred, model):\n",
    "    \"\"\"\n",
    "        Function to get accuracy, F1, ROC-AUC, recall, precision, PR-AUC scores followed by confusion matrix\n",
    "        where X is feature dataset, y is target dataset, and model is instantiated model variable\n",
    "    \"\"\"\n",
    "    acc = accuracy_score(y, y_pred)\n",
    "    f1 = f1_score(y, y_pred)\n",
    "    roc_auc = auc(X, y, model)\n",
    "    rec = recall_score(y, y_pred)\n",
    "    prec = precision_score(y, y_pred)\n",
    "    pr_auc = aps(X, y, model)\n",
    "\n",
    "    print('Accuracy: ', acc)\n",
    "    print('F1 Score: ', f1)\n",
    "    print('ROC-AUC: ', roc_auc)\n",
    "    print('Recall: ', rec)\n",
    "    print('Precision: ', prec)\n",
    "    print('PR-AUC: ', pr_auc)\n",
    "    \n",
    "    cnf = confusion_matrix(y, y_pred)\n",
    "    group_names = ['TN','FP','FN','TP']\n",
    "    group_counts = ['{0:0.0f}'.format(value) for value in cnf.flatten()]\n",
    "    group_percentages = ['{0:.2%}'.format(value) for value in cnf.flatten()/np.sum(cnf)]\n",
    "    labels = [f'{v1}\\n{v2}\\n{v3}' for v1, v2, v3 in zip(group_names, group_counts, group_percentages)]\n",
    "    labels = np.asarray(labels).reshape(2,2)\n",
    "    fig, ax = plt.subplots(figsize=(4,4))\n",
    "    sns.heatmap(cnf, annot=labels, fmt='', cmap='Blues', annot_kws={'size':14}, cbar=False, xticklabels=False, yticklabels=False)"
   ]
  },
  {
   "cell_type": "code",
   "execution_count": 46,
   "id": "8f753163",
   "metadata": {},
   "outputs": [
    {
     "name": "stdout",
     "output_type": "stream",
     "text": [
      "Accuracy:  0.8152274837511606\n",
      "F1 Score:  0.6875981161695448\n",
      "ROC-AUC:  0.8637442599513603\n",
      "Recall:  0.611731843575419\n",
      "Precision:  0.7849462365591398\n",
      "PR-AUC:  0.7787335803294833\n"
     ]
    },
    {
     "data": {
      "image/png": "[encoded data removed]",
      "text/plain": [
       "<Figure size 288x288 with 1 Axes>"
      ]
     },
     "metadata": {},
     "output_type": "display_data"
    }
   ],
   "source": [
    "rf = RandomForestClassifier(n_estimators=100).fit(tfidf_tr, y_tr)\n",
    "y_pred_rf = rf.predict(tfidf_val)\n",
    "get_metrics_confusion(tfidf_val, y_val, y_pred_rf, rf)\n",
    "\n",
    "\n"
   ]
  },
  {
   "cell_type": "code",
   "execution_count": 47,
   "id": "624feee6",
   "metadata": {},
   "outputs": [
    {
     "name": "stdout",
     "output_type": "stream",
     "text": [
      "Accuracy:  0.807799442896936\n",
      "F1 Score:  0.6578512396694216\n",
      "ROC-AUC:  0.8680255009673585\n",
      "Recall:  0.5558659217877095\n",
      "Precision:  0.805668016194332\n",
      "PR-AUC:  0.7728853824257207\n"
     ]
    },
    {
     "data": {
      "image/png": "[encoded data removed]",
      "text/plain": [
       "<Figure size 288x288 with 1 Axes>"
      ]
     },
     "metadata": {},
     "output_type": "display_data"
    }
   ],
   "source": [
    "log = LogisticRegression().fit(tfidf_tr, y_tr)\n",
    "y_pred_log = log.predict(tfidf_val)\n",
    "get_metrics_confusion(tfidf_val, y_val, y_pred_log, log)"
   ]
  },
  {
   "cell_type": "code",
   "execution_count": 48,
   "id": "3d4bfee7",
   "metadata": {},
   "outputs": [
    {
     "name": "stdout",
     "output_type": "stream",
     "text": [
      "Accuracy:  0.807799442896936\n",
      "F1 Score:  0.6578512396694216\n",
      "ROC-AUC:  0.8680255009673585\n",
      "Recall:  0.5558659217877095\n",
      "Precision:  0.805668016194332\n",
      "PR-AUC:  0.7728853824257207\n"
     ]
    },
    {
     "data": {
      "image/png": "[encoded data removed]",
      "text/plain": [
       "<Figure size 288x288 with 1 Axes>"
      ]
     },
     "metadata": {},
     "output_type": "display_data"
    }
   ],
   "source": [
    "log = LogisticRegression().fit(tfidf_tr, y_tr)\n",
    "y_pred_log = log.predict(tfidf_val)\n",
    "get_metrics_confusion(tfidf_val, y_val, y_pred_log, log)"
   ]
  },
  {
   "cell_type": "code",
   "execution_count": 49,
   "id": "0fabbb9e",
   "metadata": {},
   "outputs": [
    {
     "name": "stdout",
     "output_type": "stream",
     "text": [
      "Accuracy:  0.8096564531104921\n",
      "F1 Score:  0.6709470304975923\n",
      "ROC-AUC:  0.8583305491021826\n",
      "Recall:  0.5837988826815642\n",
      "Precision:  0.7886792452830189\n",
      "PR-AUC:  0.7340911724366584\n"
     ]
    },
    {
     "data": {
      "image/png": "[encoded data removed]",
      "text/plain": [
       "<Figure size 288x288 with 1 Axes>"
      ]
     },
     "metadata": {},
     "output_type": "display_data"
    }
   ],
   "source": [
    "gbc = GradientBoostingClassifier().fit(tfidf_tr, y_tr)\n",
    "y_pred_gbc = gbc.predict(tfidf_val)\n",
    "get_metrics_confusion(tfidf_val, y_val, y_pred_gbc, gbc)"
   ]
  },
  {
   "cell_type": "code",
   "execution_count": 50,
   "id": "c0b923dc",
   "metadata": {},
   "outputs": [
    {
     "name": "stdout",
     "output_type": "stream",
     "text": [
      "Accuracy:  0.7502321262766946\n",
      "F1 Score:  0.4587525150905433\n",
      "ROC-AUC:  0.7551883823746512\n",
      "Recall:  0.31843575418994413\n",
      "Precision:  0.8201438848920863\n",
      "PR-AUC:  0.5810962870211023\n"
     ]
    },
    {
     "data": {
      "image/png": "[encoded data removed]",
      "text/plain": [
       "<Figure size 288x288 with 1 Axes>"
      ]
     },
     "metadata": {},
     "output_type": "display_data"
    }
   ],
   "source": [
    "b_classifier = BaggingClassifier(DecisionTreeClassifier(random_state = 42, max_depth = 3),n_estimators = 10)\n",
    "b_classifier = b_classifier.fit(tfidf_tr, y_tr)\n",
    "y_pred_b = b_classifier.predict(tfidf_val)\n",
    "get_metrics_confusion(tfidf_val, y_val, y_pred_b, b_classifier)"
   ]
  },
  {
   "cell_type": "code",
   "execution_count": 51,
   "id": "8544d16e",
   "metadata": {},
   "outputs": [
    {
     "name": "stdout",
     "output_type": "stream",
     "text": [
      "Accuracy:  0.7948003714020427\n",
      "F1 Score:  0.6792452830188679\n",
      "ROC-AUC:  0.8115418683615511\n",
      "Recall:  0.6536312849162011\n",
      "Precision:  0.7069486404833837\n",
      "PR-AUC:  0.6921895634201597\n"
     ]
    },
    {
     "data": {
      "image/png": "[encoded data removed]",
      "text/plain": [
       "<Figure size 288x288 with 1 Axes>"
      ]
     },
     "metadata": {},
     "output_type": "display_data"
    }
   ],
   "source": [
    "ab_classifier = AdaBoostClassifier(\n",
    "    DecisionTreeClassifier(max_depth=1),\n",
    "    n_estimators=200\n",
    "    ).fit(tfidf_tr, y_tr)\n",
    "y_pred_ab = ab_classifier.predict(tfidf_val)\n",
    "get_metrics_confusion(tfidf_val, y_val, y_pred_ab, ab_classifier)"
   ]
  },
  {
   "cell_type": "code",
   "execution_count": 52,
   "id": "aa44a1aa",
   "metadata": {},
   "outputs": [],
   "source": [
    "def partition(x):\n",
    "\n",
    "    # INSERT YOUR CODE HERE\n",
    "    partition = {}\n",
    "    \n",
    "    for i in range(len(x)):\n",
    "        if x[i] in partition:\n",
    "            partition[x[i]].append(i)\n",
    "        else:\n",
    "            partition[x[i]] = [i]\n",
    "    \n",
    "    return partition"
   ]
  },
  {
   "cell_type": "code",
   "execution_count": 53,
   "id": "2a44155a",
   "metadata": {},
   "outputs": [],
   "source": [
    "\n",
    "def entropy(y, weight):\n",
    "\n",
    "    # INSERT YOUR CODE HERE\n",
    "    entropy = 0\n",
    "    c_0 = np.sum(weight[y==0])\n",
    "    c_1 = np.sum(weight[y==1])\n",
    "    \n",
    "    c_sum = c_0+c_1\n",
    "\n",
    "    probability_0 = c_0 / c_sum\n",
    "    probability_1 = c_1 / c_sum\n",
    "\n",
    "    if probability_0:\n",
    "        entropy += probability_0 * math.log2(probability_0) * -1\n",
    "    if probability_1:\n",
    "        entropy += probability_1 * math.log2(probability_1) * -1\n",
    "        \n",
    "    return entropy"
   ]
  },
  {
   "cell_type": "code",
   "execution_count": 54,
   "id": "a2c20b38",
   "metadata": {},
   "outputs": [],
   "source": [
    "\n",
    "def mutual_information(x, y, weight):\n",
    "\n",
    "    # INSERT YOUR CODE HERE\n",
    "    dict_x = partition(x)\n",
    "\n",
    "    entropy_y = entropy(y,weight)\n",
    "    ans = 0\n",
    "\n",
    "    for val in dict_x:\n",
    "        indices = dict_x[val]\n",
    "        entropy_val = entropy(y[indices],weight[indices])\n",
    "        ans += (np.sum(weight[indices])/np.sum(weight)) * entropy_val\n",
    "   \n",
    "    return entropy_y - ans\n"
   ]
  },
  {
   "cell_type": "code",
   "execution_count": 55,
   "id": "d310bd16",
   "metadata": {},
   "outputs": [],
   "source": [
    "def id3(x, y, weight, attribute_value_pairs=None, depth=0, max_depth=5):\n",
    "    # INSERT YOUR CODE HERE. NOTE: THIS IS A RECURSIVE FUNCTION.\n",
    "    tree = {}\n",
    "    if len(x)==0 or len(y)==0:\n",
    "        return None\n",
    "\n",
    "    uniq, count = np.unique(y, return_counts=True)\n",
    "\n",
    "    if len(np.unique(y))==1:\n",
    "        return y[0]\n",
    "    \n",
    "    if (attribute_value_pairs != None and len(attribute_value_pairs) == 0) or depth == max_depth:\n",
    "        max_count = np.argmax(count)\n",
    "        maximum = uniq[max_count]\n",
    "        return maximum\n",
    "\n",
    "\n",
    "    if attribute_value_pairs == None:\n",
    "        attribute_value_pairs = []\n",
    "        for i in range(len(x[0])):\n",
    "            uniq_keys = partition(x[:,i])\n",
    "            for key in uniq_keys:\n",
    "                attribute_value_pairs.append((i,key))\n",
    "    levels = depth\n",
    "\n",
    "    mi_gains = []\n",
    "    for (idx,val) in attribute_value_pairs:\n",
    "        mi_gains.append(mutual_information(x[:,idx] == val, y, weight))\n",
    "\n",
    "    best_attribute_value_pair = attribute_value_pairs[np.argmax(mi_gains)]\n",
    "    best_index = best_attribute_value_pair[0]\n",
    "    best_value = best_attribute_value_pair[1]\n",
    "\n",
    "    new_attribute_value_pairs = []\n",
    "    for i in attribute_value_pairs:\n",
    "        if i != best_attribute_value_pair:\n",
    "            new_attribute_value_pairs.append(i)\n",
    "\n",
    "    attribute_value_pairs = new_attribute_value_pairs\n",
    "\n",
    "    levels += 1\n",
    "    t_condition = x[:,best_index] == best_value\n",
    "    f_condition = x[:,best_index] != best_value\n",
    "\n",
    "    x_true = x[t_condition]\n",
    "    y_true = y[t_condition]\n",
    "    w_true = weight[t_condition]\n",
    "\n",
    "    x_false = x[f_condition]\n",
    "    y_false = y[f_condition]\n",
    "    w_false = weight[f_condition]\n",
    "\n",
    "    if len(y_true):\n",
    "        tree[best_index,best_value,True] = id3(x_true, y_true, w_true, attribute_value_pairs, depth=levels, max_depth=max_depth)\n",
    "    if len(y_false):\n",
    "        tree[best_index,best_value,False] = id3(x_false, y_false, w_false, attribute_value_pairs, depth=levels, max_depth=max_depth)\n",
    "\n",
    "    return tree"
   ]
  },
  {
   "cell_type": "code",
   "execution_count": 56,
   "id": "cf76cb41",
   "metadata": {},
   "outputs": [],
   "source": [
    "def bagging(x,y,max_depth,num_trees):\n",
    "    import random\n",
    "    random.seed(0)\n",
    "    len_x = len(x)\n",
    "    list_x = list(range(len(x)))\n",
    "    \n",
    "    alpha = 1\n",
    "    weight = np.ones(len_x)\n",
    "    \n",
    "    bagging_hyp = {}\n",
    "\n",
    "    for num in range(num_trees):\n",
    "        random_indices = random.choices(list_x,k=len_x)\n",
    "        \n",
    "        decision_tree = id3(x[random_indices], y[random_indices], weight, max_depth=max_depth)\n",
    "        bagging_hyp[num] = (alpha,decision_tree)\n",
    "\n",
    "    return bagging_hyp"
   ]
  },
  {
   "cell_type": "code",
   "execution_count": 57,
   "id": "1b191d2d",
   "metadata": {},
   "outputs": [],
   "source": [
    "def predict_base_learner(x, tree):\n",
    "\n",
    "    if tree in range(20):\n",
    "        return tree\n",
    "\n",
    "    for keys in tree:\n",
    "\n",
    "        if keys[1] == x[keys[0]] and keys[2] == True:\n",
    "            return predict_base_learner(x,tree[keys])\n",
    "        \n",
    "        if keys[1] != x[keys[0]] and keys[2] == False:\n",
    "            return predict_base_learner(x,tree[keys])"
   ]
  },
  {
   "cell_type": "code",
   "execution_count": 58,
   "id": "44d70144",
   "metadata": {},
   "outputs": [],
   "source": [
    "\n",
    "def predict_example(x, h_ens, ensemble_type):\n",
    "    # INSERT YOUR CODE HERE. NOTE: THIS IS A RECURSIVE FUNCTION.\n",
    "    predictions = []\n",
    "    if ensemble_type == \"bagging\":\n",
    "        for k in h_ens:\n",
    "            test_pred = predict_base_learner(x,h_ens[k][1])\n",
    "            predictions.append(test_pred)\n",
    "\n",
    "        predicted_example = max(predictions, key=predictions.count)\n",
    "        return predicted_example\n",
    "    else:\n",
    "        sum = 0\n",
    "        for y in h_ens:\n",
    "            alpha, tree = h_ens[y]\n",
    "\n",
    "            test_pred = predict_base_learner(x, tree)\n",
    "            predictions.append(test_pred*alpha)\n",
    "\n",
    "            sum += alpha\n",
    "        \n",
    "        predicted_example = np.sum(predictions) / sum\n",
    "\n",
    "        if predicted_example >= 0.5:\n",
    "            return 1\n",
    "        else:\n",
    "            return 0\n"
   ]
  },
  {
   "cell_type": "code",
   "execution_count": 59,
   "id": "1d74df7f",
   "metadata": {},
   "outputs": [],
   "source": [
    "def compute_error(y_true, y_pred):\n",
    "    # INSERT YOUR CODE HERE\n",
    "    n=len(y_pred)\n",
    "    count=0\n",
    "    for i in range(n):\n",
    "        if y_true[i]!=y_pred[i]:\n",
    "            count+=1\n",
    "    return float(count)/float(n)"
   ]
  },
  {
   "cell_type": "code",
   "execution_count": 60,
   "id": "d207abb0",
   "metadata": {},
   "outputs": [],
   "source": [
    "def conf_matrix(y_true,y_pred):\n",
    "    true_positive,true_negative,false_positive,false_negative = 0,0,0,0\n",
    "\n",
    "    for i in range(len(y_pred)):\n",
    "        if y_pred[i] != 0 and y_true[i] != 0:\n",
    "            true_positive += 1\n",
    "        elif y_pred[i] == 0 and y_true[i] == 0:\n",
    "            true_negative += 1\n",
    "        elif y_pred[i] != 0 and y_true[i] == 0:\n",
    "            false_positive += 1\n",
    "        elif y_pred[i] == 0 and y_true[i] != 0:\n",
    "            false_negative += 1\n",
    "    \n",
    "    confusion_mat = np.array([true_positive,false_negative,false_positive,true_negative]).reshape(2,2)\n",
    "\n",
    "    print(\"\\t\\tClassifier Prediction\")\n",
    "    print(\"\\t\\t\\tPositive\\tNegative\")\n",
    "    print(\"Actual | Positive\\t\",confusion_mat[0][0],\"\\t\\t\",confusion_mat[0][1])\n",
    "    print(\"Value  | Negative\\t\",confusion_mat[1][0],\"\\t\\t\",confusion_mat[1][1])"
   ]
  },
  {
   "cell_type": "code",
   "execution_count": 62,
   "id": "8faa174d",
   "metadata": {},
   "outputs": [
    {
     "name": "stdout",
     "output_type": "stream",
     "text": [
      "Bagging\n",
      "Bagging : max_depth = 3 bag_size =  10\n",
      "Test Error = 28.41%.\n",
      "test accuracy 0.7158774373259053\n"
     ]
    }
   ],
   "source": [
    "print(\"Bagging\")\n",
    "depth = 3\n",
    "bag_size = 10\n",
    "print(\"Bagging : max_depth =\",depth,\"bag_size = \",bag_size)\n",
    "bag = bagging(tfidf_tr.toarray(), y_tr.to_numpy(), depth, bag_size)\n",
    "y_pred = [predict_example(x, bag, \"bagging\") for x in tfidf_val.toarray()]\n",
    "\n",
    "tst_err = compute_error(y_val.to_numpy(), y_pred)\n",
    "print('Test Error = {0:4.2f}%.'.format(tst_err * 100))\n",
    "print('test accuracy',accuracy_score(y_pred,y_val))"
   ]
  },
  {
   "cell_type": "code",
   "execution_count": 67,
   "id": "0b1373ab",
   "metadata": {},
   "outputs": [],
   "source": [
    "def sigmoid(x,w,b):\n",
    "    return 1/(1+np.exp(-(np.dot(x,w)+b)))\n",
    "def loss(x,w,y,b):\n",
    "    s=sigmoid(x,w,b)\n",
    "    return np.mean(-(y*np.log(s))- ((1-y)*np.log(1-s)))\n",
    "def grad(x,y,w,b):\n",
    "    s=sigmoid(x,w,b)    \n",
    "    return np.dot(x.T,(s-y))/x.shape[0]"
   ]
  },
  {
   "cell_type": "code",
   "execution_count": 68,
   "id": "6b69d1be",
   "metadata": {},
   "outputs": [],
   "source": [
    "def accuracy(y_pred,y_test):\n",
    "    return np.mean(y_pred==y_test)"
   ]
  },
  {
   "cell_type": "code",
   "execution_count": 69,
   "id": "1d1cd98d",
   "metadata": {},
   "outputs": [],
   "source": [
    "def gradientdescent(x,y):\n",
    "    w=np.zeros((x.shape[1]))\n",
    "    b=np.zeros(1)\n",
    "    ite=1000 #number of iteration\n",
    "    eta=0.7 #learning rate\n",
    "    loss_v=[]\n",
    "    for i in range(ite):\n",
    "        probability=sigmoid(x,w,b)\n",
    "        l=loss(x,w,y,b)\n",
    "        gradient=grad(x,y,w,b)\n",
    "        w=w- (eta*gradient)\n",
    "        b=b-(eta*np.sum(probability-y)/x.shape[0])\n",
    "        loss_v.append(l)\n",
    "    return w,b,loss_v"
   ]
  },
  {
   "cell_type": "code",
   "execution_count": 70,
   "id": "ac3b6c85",
   "metadata": {},
   "outputs": [
    {
     "name": "stdout",
     "output_type": "stream",
     "text": [
      "accuracy 0.7678737233054782\n"
     ]
    }
   ],
   "source": [
    "w,b,loss_v=gradientdescent(tfidf_tr.toarray(),y_tr.to_numpy())\n",
    "y_pred=sigmoid(tfidf_val.toarray(),w,b)\n",
    "for j,i in enumerate(y_pred):\n",
    "    if i<0.5:\n",
    "        y_pred[j]=0\n",
    "    else:\n",
    "        y_pred[j]=1\n",
    "\n",
    "print('accuracy',accuracy(y_pred,y_val))"
   ]
  },
  {
   "cell_type": "code",
   "execution_count": null,
   "id": "38d94673",
   "metadata": {},
   "outputs": [],
   "source": []
  }
 ],
 "metadata": {
  "kernelspec": {
   "display_name": "Python 3 (ipykernel)",
   "language": "python",
   "name": "python3"
  },
  "language_info": {
   "codemirror_mode": {
    "name": "ipython",
    "version": 3
   },
   "file_extension": ".py",
   "mimetype": "text/x-python",
   "name": "python",
   "nbconvert_exporter": "python",
   "pygments_lexer": "ipython3",
   "version": "3.9.12"
  },
  "vscode": {
   "interpreter": {
    "hash": "f26e8b98f7d1e0e21173cb95fa249a764c332608d344e0d6be38fcbd1bf0c593"
   }
  }
 },
 "nbformat": 4,
 "nbformat_minor": 5
}
